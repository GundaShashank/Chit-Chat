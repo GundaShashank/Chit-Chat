{
  "cells": [
    {
      "cell_type": "code",
      "execution_count": 1,
      "metadata": {
        "colab": {
          "base_uri": "https://localhost:8080/"
        },
        "id": "iMmIr6u7LzRm",
        "outputId": "07eed017-d268-4e86-9514-8021be778876"
      },
      "outputs": [
        {
          "name": "stdout",
          "output_type": "stream",
          "text": [
            "Collecting google-generativeai\n",
            "  Obtaining dependency information for google-generativeai from https://files.pythonhosted.org/packages/e3/f1/dca50d310c7e4f55775993d54a624411b829da99d464d809bc5e60ef65d8/google_generativeai-0.1.0-py3-none-any.whl.metadata\n",
            "  Downloading google_generativeai-0.1.0-py3-none-any.whl.metadata (3.0 kB)\n",
            "Collecting google-ai-generativelanguage==0.2.0 (from google-generativeai)\n",
            "  Downloading google_ai_generativelanguage-0.2.0-py3-none-any.whl (113 kB)\n",
            "     ---------------------------------------- 0.0/113.3 kB ? eta -:--:--\n",
            "     --- ------------------------------------ 10.2/113.3 kB ? eta -:--:--\n",
            "     ---------- -------------------------- 30.7/113.3 kB 217.9 kB/s eta 0:00:01\n",
            "     ---------- -------------------------- 30.7/113.3 kB 217.9 kB/s eta 0:00:01\n",
            "     ---------- -------------------------- 30.7/113.3 kB 217.9 kB/s eta 0:00:01\n",
            "     ------------------------------ ------ 92.2/113.3 kB 374.1 kB/s eta 0:00:01\n",
            "     ------------------------------ ------ 92.2/113.3 kB 374.1 kB/s eta 0:00:01\n",
            "     ------------------------------------ 113.3/113.3 kB 329.3 kB/s eta 0:00:00\n",
            "Collecting google-api-core[grpc]!=2.0.*,!=2.1.*,!=2.10.*,!=2.2.*,!=2.3.*,!=2.4.*,!=2.5.*,!=2.6.*,!=2.7.*,!=2.8.*,!=2.9.*,<3.0.0dev,>=1.34.0 (from google-ai-generativelanguage==0.2.0->google-generativeai)\n",
            "  Obtaining dependency information for google-api-core[grpc]!=2.0.*,!=2.1.*,!=2.10.*,!=2.2.*,!=2.3.*,!=2.4.*,!=2.5.*,!=2.6.*,!=2.7.*,!=2.8.*,!=2.9.*,<3.0.0dev,>=1.34.0 from https://files.pythonhosted.org/packages/6e/c4/c3cd048b6cbeba8d9ae50dd7643ac065b85237338aa7501b0efae91eb4d9/google_api_core-2.11.1-py3-none-any.whl.metadata\n",
            "  Downloading google_api_core-2.11.1-py3-none-any.whl.metadata (2.7 kB)\n",
            "Collecting proto-plus<2.0.0dev,>=1.22.0 (from google-ai-generativelanguage==0.2.0->google-generativeai)\n",
            "  Obtaining dependency information for proto-plus<2.0.0dev,>=1.22.0 from https://files.pythonhosted.org/packages/36/5b/e02636d221917d6fa2a61289b3f16002eb4c93d51c0191ac8e896d527182/proto_plus-1.22.3-py3-none-any.whl.metadata\n",
            "  Downloading proto_plus-1.22.3-py3-none-any.whl.metadata (2.2 kB)\n",
            "Collecting protobuf!=3.20.0,!=3.20.1,!=4.21.0,!=4.21.1,!=4.21.2,!=4.21.3,!=4.21.4,!=4.21.5,<5.0.0dev,>=3.19.5 (from google-ai-generativelanguage==0.2.0->google-generativeai)\n",
            "  Obtaining dependency information for protobuf!=3.20.0,!=3.20.1,!=4.21.0,!=4.21.1,!=4.21.2,!=4.21.3,!=4.21.4,!=4.21.5,<5.0.0dev,>=3.19.5 from https://files.pythonhosted.org/packages/6f/ac/a065300a39fca3e8eb5df245b1a6a85e4c9768de44c8df3421199bc51440/protobuf-4.24.1-cp310-abi3-win_amd64.whl.metadata\n",
            "  Downloading protobuf-4.24.1-cp310-abi3-win_amd64.whl.metadata (540 bytes)\n",
            "Collecting googleapis-common-protos<2.0.dev0,>=1.56.2 (from google-api-core[grpc]!=2.0.*,!=2.1.*,!=2.10.*,!=2.2.*,!=2.3.*,!=2.4.*,!=2.5.*,!=2.6.*,!=2.7.*,!=2.8.*,!=2.9.*,<3.0.0dev,>=1.34.0->google-ai-generativelanguage==0.2.0->google-generativeai)\n",
            "  Obtaining dependency information for googleapis-common-protos<2.0.dev0,>=1.56.2 from https://files.pythonhosted.org/packages/a7/bc/416a1ffeba4dcd072bc10523dac9ed97f2e7fc4b760580e2bdbdc1e2afdd/googleapis_common_protos-1.60.0-py2.py3-none-any.whl.metadata\n",
            "  Downloading googleapis_common_protos-1.60.0-py2.py3-none-any.whl.metadata (1.5 kB)\n",
            "Collecting google-auth<3.0.dev0,>=2.14.1 (from google-api-core[grpc]!=2.0.*,!=2.1.*,!=2.10.*,!=2.2.*,!=2.3.*,!=2.4.*,!=2.5.*,!=2.6.*,!=2.7.*,!=2.8.*,!=2.9.*,<3.0.0dev,>=1.34.0->google-ai-generativelanguage==0.2.0->google-generativeai)\n",
            "  Obtaining dependency information for google-auth<3.0.dev0,>=2.14.1 from https://files.pythonhosted.org/packages/9c/8d/bff87fc722553a5691d8514da5523c23547f3894189ba03b57592e37bdc2/google_auth-2.22.0-py2.py3-none-any.whl.metadata\n",
            "  Downloading google_auth-2.22.0-py2.py3-none-any.whl.metadata (4.2 kB)\n",
            "Requirement already satisfied: requests<3.0.0.dev0,>=2.18.0 in c:\\users\\shashank\\anaconda3\\lib\\site-packages (from google-api-core[grpc]!=2.0.*,!=2.1.*,!=2.10.*,!=2.2.*,!=2.3.*,!=2.4.*,!=2.5.*,!=2.6.*,!=2.7.*,!=2.8.*,!=2.9.*,<3.0.0dev,>=1.34.0->google-ai-generativelanguage==0.2.0->google-generativeai) (2.31.0)\n",
            "Collecting grpcio<2.0dev,>=1.33.2 (from google-api-core[grpc]!=2.0.*,!=2.1.*,!=2.10.*,!=2.2.*,!=2.3.*,!=2.4.*,!=2.5.*,!=2.6.*,!=2.7.*,!=2.8.*,!=2.9.*,<3.0.0dev,>=1.34.0->google-ai-generativelanguage==0.2.0->google-generativeai)\n",
            "  Obtaining dependency information for grpcio<2.0dev,>=1.33.2 from https://files.pythonhosted.org/packages/8d/58/ede228c07bdf3780c5332660c89f3c7a37fe8bfb9bd73a97ad2614420bd4/grpcio-1.57.0-cp311-cp311-win_amd64.whl.metadata\n",
            "  Downloading grpcio-1.57.0-cp311-cp311-win_amd64.whl.metadata (4.1 kB)\n",
            "Collecting grpcio-status<2.0.dev0,>=1.33.2 (from google-api-core[grpc]!=2.0.*,!=2.1.*,!=2.10.*,!=2.2.*,!=2.3.*,!=2.4.*,!=2.5.*,!=2.6.*,!=2.7.*,!=2.8.*,!=2.9.*,<3.0.0dev,>=1.34.0->google-ai-generativelanguage==0.2.0->google-generativeai)\n",
            "  Obtaining dependency information for grpcio-status<2.0.dev0,>=1.33.2 from https://files.pythonhosted.org/packages/d0/3f/347d93056572fdbd64d4f0fc58a18d420763a7118f8b177437d9dab0ae6f/grpcio_status-1.57.0-py3-none-any.whl.metadata\n",
            "  Downloading grpcio_status-1.57.0-py3-none-any.whl.metadata (1.2 kB)\n",
            "Collecting cachetools<6.0,>=2.0.0 (from google-auth<3.0.dev0,>=2.14.1->google-api-core[grpc]!=2.0.*,!=2.1.*,!=2.10.*,!=2.2.*,!=2.3.*,!=2.4.*,!=2.5.*,!=2.6.*,!=2.7.*,!=2.8.*,!=2.9.*,<3.0.0dev,>=1.34.0->google-ai-generativelanguage==0.2.0->google-generativeai)\n",
            "  Obtaining dependency information for cachetools<6.0,>=2.0.0 from https://files.pythonhosted.org/packages/a9/c9/c8a7710f2cedcb1db9224fdd4d8307c9e48cbddc46c18b515fefc0f1abbe/cachetools-5.3.1-py3-none-any.whl.metadata\n",
            "  Downloading cachetools-5.3.1-py3-none-any.whl.metadata (5.2 kB)\n",
            "Requirement already satisfied: pyasn1-modules>=0.2.1 in c:\\users\\shashank\\anaconda3\\lib\\site-packages (from google-auth<3.0.dev0,>=2.14.1->google-api-core[grpc]!=2.0.*,!=2.1.*,!=2.10.*,!=2.2.*,!=2.3.*,!=2.4.*,!=2.5.*,!=2.6.*,!=2.7.*,!=2.8.*,!=2.9.*,<3.0.0dev,>=1.34.0->google-ai-generativelanguage==0.2.0->google-generativeai) (0.2.8)\n",
            "Collecting rsa<5,>=3.1.4 (from google-auth<3.0.dev0,>=2.14.1->google-api-core[grpc]!=2.0.*,!=2.1.*,!=2.10.*,!=2.2.*,!=2.3.*,!=2.4.*,!=2.5.*,!=2.6.*,!=2.7.*,!=2.8.*,!=2.9.*,<3.0.0dev,>=1.34.0->google-ai-generativelanguage==0.2.0->google-generativeai)\n",
            "  Downloading rsa-4.9-py3-none-any.whl (34 kB)\n",
            "Requirement already satisfied: six>=1.9.0 in c:\\users\\shashank\\anaconda3\\lib\\site-packages (from google-auth<3.0.dev0,>=2.14.1->google-api-core[grpc]!=2.0.*,!=2.1.*,!=2.10.*,!=2.2.*,!=2.3.*,!=2.4.*,!=2.5.*,!=2.6.*,!=2.7.*,!=2.8.*,!=2.9.*,<3.0.0dev,>=1.34.0->google-ai-generativelanguage==0.2.0->google-generativeai) (1.16.0)\n",
            "Requirement already satisfied: urllib3<2.0 in c:\\users\\shashank\\anaconda3\\lib\\site-packages (from google-auth<3.0.dev0,>=2.14.1->google-api-core[grpc]!=2.0.*,!=2.1.*,!=2.10.*,!=2.2.*,!=2.3.*,!=2.4.*,!=2.5.*,!=2.6.*,!=2.7.*,!=2.8.*,!=2.9.*,<3.0.0dev,>=1.34.0->google-ai-generativelanguage==0.2.0->google-generativeai) (1.26.16)\n",
            "Requirement already satisfied: charset-normalizer<4,>=2 in c:\\users\\shashank\\anaconda3\\lib\\site-packages (from requests<3.0.0.dev0,>=2.18.0->google-api-core[grpc]!=2.0.*,!=2.1.*,!=2.10.*,!=2.2.*,!=2.3.*,!=2.4.*,!=2.5.*,!=2.6.*,!=2.7.*,!=2.8.*,!=2.9.*,<3.0.0dev,>=1.34.0->google-ai-generativelanguage==0.2.0->google-generativeai) (2.0.4)\n",
            "Requirement already satisfied: idna<4,>=2.5 in c:\\users\\shashank\\anaconda3\\lib\\site-packages (from requests<3.0.0.dev0,>=2.18.0->google-api-core[grpc]!=2.0.*,!=2.1.*,!=2.10.*,!=2.2.*,!=2.3.*,!=2.4.*,!=2.5.*,!=2.6.*,!=2.7.*,!=2.8.*,!=2.9.*,<3.0.0dev,>=1.34.0->google-ai-generativelanguage==0.2.0->google-generativeai) (3.4)\n",
            "Requirement already satisfied: certifi>=2017.4.17 in c:\\users\\shashank\\anaconda3\\lib\\site-packages (from requests<3.0.0.dev0,>=2.18.0->google-api-core[grpc]!=2.0.*,!=2.1.*,!=2.10.*,!=2.2.*,!=2.3.*,!=2.4.*,!=2.5.*,!=2.6.*,!=2.7.*,!=2.8.*,!=2.9.*,<3.0.0dev,>=1.34.0->google-ai-generativelanguage==0.2.0->google-generativeai) (2023.7.22)\n",
            "Requirement already satisfied: pyasn1<0.5.0,>=0.4.6 in c:\\users\\shashank\\anaconda3\\lib\\site-packages (from pyasn1-modules>=0.2.1->google-auth<3.0.dev0,>=2.14.1->google-api-core[grpc]!=2.0.*,!=2.1.*,!=2.10.*,!=2.2.*,!=2.3.*,!=2.4.*,!=2.5.*,!=2.6.*,!=2.7.*,!=2.8.*,!=2.9.*,<3.0.0dev,>=1.34.0->google-ai-generativelanguage==0.2.0->google-generativeai) (0.4.8)\n",
            "Downloading google_generativeai-0.1.0-py3-none-any.whl (122 kB)\n",
            "   ---------------------------------------- 0.0/122.9 kB ? eta -:--:--\n",
            "   ---------------------------------------- 122.9/122.9 kB 7.5 MB/s eta 0:00:00\n",
            "Downloading proto_plus-1.22.3-py3-none-any.whl (48 kB)\n",
            "   ---------------------------------------- 0.0/48.1 kB ? eta -:--:--\n",
            "   ---------------------------------------- 48.1/48.1 kB ? eta 0:00:00\n",
            "Downloading protobuf-4.24.1-cp310-abi3-win_amd64.whl (430 kB)\n",
            "   ---------------------------------------- 0.0/430.4 kB ? eta -:--:--\n",
            "   ---------- ----------------------------- 112.6/430.4 kB 3.3 MB/s eta 0:00:01\n",
            "   ---------- ----------------------------- 112.6/430.4 kB 3.3 MB/s eta 0:00:01\n",
            "   -------------------- ------------------- 225.3/430.4 kB 2.0 MB/s eta 0:00:01\n",
            "   -------------------- ------------------- 225.3/430.4 kB 2.0 MB/s eta 0:00:01\n",
            "   --------------------------------- ------ 358.4/430.4 kB 1.6 MB/s eta 0:00:01\n",
            "   --------------------------------- ------ 358.4/430.4 kB 1.6 MB/s eta 0:00:01\n",
            "   ---------------------------------------- 430.4/430.4 kB 1.3 MB/s eta 0:00:00\n",
            "Downloading google_auth-2.22.0-py2.py3-none-any.whl (181 kB)\n",
            "   ---------------------------------------- 0.0/181.8 kB ? eta -:--:--\n",
            "   ------------------------------- -------- 143.4/181.8 kB 4.2 MB/s eta 0:00:01\n",
            "   ------------------------------- -------- 143.4/181.8 kB 4.2 MB/s eta 0:00:01\n",
            "   ---------------------------------------- 181.8/181.8 kB 1.6 MB/s eta 0:00:00\n",
            "Downloading googleapis_common_protos-1.60.0-py2.py3-none-any.whl (227 kB)\n",
            "   ---------------------------------------- 0.0/227.6 kB ? eta -:--:--\n",
            "   ------------------------- -------------- 143.4/227.6 kB 4.3 MB/s eta 0:00:01\n",
            "   ------------------------- -------------- 143.4/227.6 kB 4.3 MB/s eta 0:00:01\n",
            "   ---------------------------------------- 227.6/227.6 kB 2.0 MB/s eta 0:00:00\n",
            "Downloading grpcio-1.57.0-cp311-cp311-win_amd64.whl (4.3 MB)\n",
            "   ---------------------------------------- 0.0/4.3 MB ? eta -:--:--\n",
            "   - -------------------------------------- 0.1/4.3 MB 3.3 MB/s eta 0:00:02\n",
            "   - -------------------------------------- 0.1/4.3 MB 3.3 MB/s eta 0:00:02\n",
            "   -- ------------------------------------- 0.2/4.3 MB 1.9 MB/s eta 0:00:03\n",
            "   -- ------------------------------------- 0.2/4.3 MB 1.9 MB/s eta 0:00:03\n",
            "   --- ------------------------------------ 0.4/4.3 MB 1.7 MB/s eta 0:00:03\n",
            "   --- ------------------------------------ 0.4/4.3 MB 1.7 MB/s eta 0:00:03\n",
            "   ---- ----------------------------------- 0.5/4.3 MB 1.6 MB/s eta 0:00:03\n",
            "   ---- ----------------------------------- 0.5/4.3 MB 1.6 MB/s eta 0:00:03\n",
            "   ----- ---------------------------------- 0.6/4.3 MB 1.4 MB/s eta 0:00:03\n",
            "   ------ --------------------------------- 0.7/4.3 MB 1.5 MB/s eta 0:00:03\n",
            "   ------ --------------------------------- 0.7/4.3 MB 1.5 MB/s eta 0:00:03\n",
            "   ------- -------------------------------- 0.8/4.3 MB 1.5 MB/s eta 0:00:03\n",
            "   ------- -------------------------------- 0.8/4.3 MB 1.5 MB/s eta 0:00:03\n",
            "   -------- ------------------------------- 1.0/4.3 MB 1.5 MB/s eta 0:00:03\n",
            "   -------- ------------------------------- 1.0/4.3 MB 1.5 MB/s eta 0:00:03\n",
            "   ---------- ----------------------------- 1.1/4.3 MB 1.5 MB/s eta 0:00:03\n",
            "   ---------- ----------------------------- 1.1/4.3 MB 1.5 MB/s eta 0:00:03\n",
            "   ----------- ---------------------------- 1.2/4.3 MB 1.5 MB/s eta 0:00:03\n",
            "   ----------- ---------------------------- 1.3/4.3 MB 1.5 MB/s eta 0:00:03\n",
            "   ------------ --------------------------- 1.3/4.3 MB 1.4 MB/s eta 0:00:03\n",
            "   ------------- -------------------------- 1.4/4.3 MB 1.5 MB/s eta 0:00:02\n",
            "   ------------- -------------------------- 1.4/4.3 MB 1.5 MB/s eta 0:00:02\n",
            "   -------------- ------------------------- 1.6/4.3 MB 1.5 MB/s eta 0:00:02\n",
            "   -------------- ------------------------- 1.6/4.3 MB 1.5 MB/s eta 0:00:02\n",
            "   ---------------- ----------------------- 1.8/4.3 MB 1.5 MB/s eta 0:00:02\n",
            "   ---------------- ----------------------- 1.8/4.3 MB 1.5 MB/s eta 0:00:02\n",
            "   ----------------- ---------------------- 1.9/4.3 MB 1.5 MB/s eta 0:00:02\n",
            "   ----------------- ---------------------- 1.9/4.3 MB 1.5 MB/s eta 0:00:02\n",
            "   ------------------- -------------------- 2.1/4.3 MB 1.5 MB/s eta 0:00:02\n",
            "   ------------------- -------------------- 2.1/4.3 MB 1.5 MB/s eta 0:00:02\n",
            "   -------------------- ------------------- 2.2/4.3 MB 1.5 MB/s eta 0:00:02\n",
            "   --------------------- ------------------ 2.3/4.3 MB 1.6 MB/s eta 0:00:02\n",
            "   --------------------- ------------------ 2.3/4.3 MB 1.6 MB/s eta 0:00:02\n",
            "   ---------------------- ----------------- 2.5/4.3 MB 1.6 MB/s eta 0:00:02\n",
            "   ---------------------- ----------------- 2.5/4.3 MB 1.6 MB/s eta 0:00:02\n",
            "   ------------------------ --------------- 2.7/4.3 MB 1.6 MB/s eta 0:00:02\n",
            "   ------------------------ --------------- 2.7/4.3 MB 1.6 MB/s eta 0:00:02\n",
            "   -------------------------- ------------- 2.8/4.3 MB 1.6 MB/s eta 0:00:01\n",
            "   -------------------------- ------------- 2.8/4.3 MB 1.6 MB/s eta 0:00:01\n",
            "   ---------------------------- ----------- 3.1/4.3 MB 1.6 MB/s eta 0:00:01\n",
            "   ---------------------------- ----------- 3.1/4.3 MB 1.6 MB/s eta 0:00:01\n",
            "   ----------------------------- ---------- 3.2/4.3 MB 1.6 MB/s eta 0:00:01\n",
            "   ------------------------------ --------- 3.2/4.3 MB 1.6 MB/s eta 0:00:01\n",
            "   ------------------------------ --------- 3.3/4.3 MB 1.6 MB/s eta 0:00:01\n",
            "   -------------------------------- ------- 3.5/4.3 MB 1.7 MB/s eta 0:00:01\n",
            "   -------------------------------- ------- 3.5/4.3 MB 1.7 MB/s eta 0:00:01\n",
            "   ---------------------------------- ----- 3.7/4.3 MB 1.7 MB/s eta 0:00:01\n",
            "   ---------------------------------- ----- 3.7/4.3 MB 1.7 MB/s eta 0:00:01\n",
            "   ------------------------------------ --- 3.9/4.3 MB 1.7 MB/s eta 0:00:01\n",
            "   ------------------------------------ --- 3.9/4.3 MB 1.7 MB/s eta 0:00:01\n",
            "   -------------------------------------- - 4.1/4.3 MB 1.7 MB/s eta 0:00:01\n",
            "   -------------------------------------- - 4.1/4.3 MB 1.7 MB/s eta 0:00:01\n",
            "   ---------------------------------------  4.3/4.3 MB 1.7 MB/s eta 0:00:01\n",
            "   ---------------------------------------- 4.3/4.3 MB 1.7 MB/s eta 0:00:00\n",
            "Downloading grpcio_status-1.57.0-py3-none-any.whl (5.1 kB)\n",
            "Downloading google_api_core-2.11.1-py3-none-any.whl (120 kB)\n",
            "   ---------------------------------------- 0.0/120.5 kB ? eta -:--:--\n",
            "   ---------------------------------------- 120.5/120.5 kB 7.4 MB/s eta 0:00:00\n",
            "Downloading cachetools-5.3.1-py3-none-any.whl (9.3 kB)\n",
            "Installing collected packages: rsa, protobuf, grpcio, cachetools, proto-plus, googleapis-common-protos, google-auth, grpcio-status, google-api-core, google-ai-generativelanguage, google-generativeai\n",
            "Successfully installed cachetools-5.3.1 google-ai-generativelanguage-0.2.0 google-api-core-2.11.1 google-auth-2.22.0 google-generativeai-0.1.0 googleapis-common-protos-1.60.0 grpcio-1.57.0 grpcio-status-1.57.0 proto-plus-1.22.3 protobuf-4.24.1 rsa-4.9\n"
          ]
        }
      ],
      "source": [
        "!pip install google-generativeai"
      ]
    },
    {
      "cell_type": "code",
      "execution_count": 2,
      "metadata": {
        "id": "XQorYLZ-L3Is"
      },
      "outputs": [],
      "source": [
        "import google.generativeai as palm"
      ]
    },
    {
      "cell_type": "code",
      "execution_count": 3,
      "metadata": {
        "id": "r64HFwP6L9RV"
      },
      "outputs": [],
      "source": [
        "palm.configure(api_key='<API-KEY>')"
      ]
    },
    {
      "cell_type": "code",
      "execution_count": 2,
      "metadata": {
        "colab": {
          "base_uri": "https://localhost:8080/"
        },
        "id": "sG5gfFMLMT0Y",
        "outputId": "c290fdac-b144-47f6-f6f4-0f494586e498"
      },
      "outputs": [
        {
          "ename": "KeyboardInterrupt",
          "evalue": "Interrupted by user",
          "output_type": "error",
          "traceback": [
            "\u001b[1;31m---------------------------------------------------------------------------\u001b[0m",
            "\u001b[1;31mKeyboardInterrupt\u001b[0m                         Traceback (most recent call last)",
            "Cell \u001b[1;32mIn[2], line 3\u001b[0m\n\u001b[0;32m      1\u001b[0m \u001b[39mwhile\u001b[39;00m \u001b[39mTrue\u001b[39;00m:\n\u001b[1;32m----> 3\u001b[0m     prompt \u001b[39m=\u001b[39m \u001b[39minput\u001b[39m(\u001b[39m\"\u001b[39m\u001b[39mYou: \u001b[39m\u001b[39m\"\u001b[39m)\n\u001b[0;32m      5\u001b[0m     \u001b[39m# Assuming palm is a library for conversation, you can replace this line with your actual code\u001b[39;00m\n\u001b[0;32m      6\u001b[0m     response \u001b[39m=\u001b[39m palm\u001b[39m.\u001b[39mchat( context \u001b[39m=\u001b[39m \u001b[39m\"\u001b[39m\u001b[39mYou are a Mriga the latest innovation in an advanced humanoid robot Made in the collaboration of TREEEX, Sky N Fire and KSI . The conversation voice to voice assistant makes friendly chit-chat \u001b[39m\u001b[39m\"\u001b[39m, messages\u001b[39m=\u001b[39mprompt, temperature \u001b[39m=\u001b[39m \u001b[39m0.8\u001b[39m, top_k \u001b[39m=\u001b[39m \u001b[39m40\u001b[39m, top_p \u001b[39m=\u001b[39m \u001b[39m0.95\u001b[39m)\n",
            "File \u001b[1;32mc:\\Users\\Shashank\\anaconda3\\Lib\\site-packages\\ipykernel\\kernelbase.py:1175\u001b[0m, in \u001b[0;36mKernel.raw_input\u001b[1;34m(self, prompt)\u001b[0m\n\u001b[0;32m   1171\u001b[0m \u001b[39mif\u001b[39;00m \u001b[39mnot\u001b[39;00m \u001b[39mself\u001b[39m\u001b[39m.\u001b[39m_allow_stdin:\n\u001b[0;32m   1172\u001b[0m     \u001b[39mraise\u001b[39;00m StdinNotImplementedError(\n\u001b[0;32m   1173\u001b[0m         \u001b[39m\"\u001b[39m\u001b[39mraw_input was called, but this frontend does not support input requests.\u001b[39m\u001b[39m\"\u001b[39m\n\u001b[0;32m   1174\u001b[0m     )\n\u001b[1;32m-> 1175\u001b[0m \u001b[39mreturn\u001b[39;00m \u001b[39mself\u001b[39m\u001b[39m.\u001b[39m_input_request(\n\u001b[0;32m   1176\u001b[0m     \u001b[39mstr\u001b[39m(prompt),\n\u001b[0;32m   1177\u001b[0m     \u001b[39mself\u001b[39m\u001b[39m.\u001b[39m_parent_ident[\u001b[39m\"\u001b[39m\u001b[39mshell\u001b[39m\u001b[39m\"\u001b[39m],\n\u001b[0;32m   1178\u001b[0m     \u001b[39mself\u001b[39m\u001b[39m.\u001b[39mget_parent(\u001b[39m\"\u001b[39m\u001b[39mshell\u001b[39m\u001b[39m\"\u001b[39m),\n\u001b[0;32m   1179\u001b[0m     password\u001b[39m=\u001b[39m\u001b[39mFalse\u001b[39;00m,\n\u001b[0;32m   1180\u001b[0m )\n",
            "File \u001b[1;32mc:\\Users\\Shashank\\anaconda3\\Lib\\site-packages\\ipykernel\\kernelbase.py:1217\u001b[0m, in \u001b[0;36mKernel._input_request\u001b[1;34m(self, prompt, ident, parent, password)\u001b[0m\n\u001b[0;32m   1214\u001b[0m             \u001b[39mbreak\u001b[39;00m\n\u001b[0;32m   1215\u001b[0m \u001b[39mexcept\u001b[39;00m \u001b[39mKeyboardInterrupt\u001b[39;00m:\n\u001b[0;32m   1216\u001b[0m     \u001b[39m# re-raise KeyboardInterrupt, to truncate traceback\u001b[39;00m\n\u001b[1;32m-> 1217\u001b[0m     \u001b[39mraise\u001b[39;00m \u001b[39mKeyboardInterrupt\u001b[39;00m(\u001b[39m\"\u001b[39m\u001b[39mInterrupted by user\u001b[39m\u001b[39m\"\u001b[39m) \u001b[39mfrom\u001b[39;00m \u001b[39mNone\u001b[39;00m\n\u001b[0;32m   1218\u001b[0m \u001b[39mexcept\u001b[39;00m \u001b[39mException\u001b[39;00m:\n\u001b[0;32m   1219\u001b[0m     \u001b[39mself\u001b[39m\u001b[39m.\u001b[39mlog\u001b[39m.\u001b[39mwarning(\u001b[39m\"\u001b[39m\u001b[39mInvalid Message:\u001b[39m\u001b[39m\"\u001b[39m, exc_info\u001b[39m=\u001b[39m\u001b[39mTrue\u001b[39;00m)\n",
            "\u001b[1;31mKeyboardInterrupt\u001b[0m: Interrupted by user"
          ]
        }
      ],
      "source": [
        "while True:\n",
        "\n",
        "    prompt = input(\"You: \")\n",
        "\n",
        "    # Assuming palm is a library for conversation, you can replace this line with your actual code\n",
        "    response = palm.chat( context = \"You are a Mriga the latest innovation in an advanced humanoid robot Made in the collaboration of TREEEX, Sky N Fire and KSI . The conversation voice to voice assistant makes friendly chit-chat \", messages=prompt, temperature = 0.8, top_k = 40, top_p = 0.95)\n",
        "\n",
        "    # Print the model's response\n",
        "    print(\"Bot:\", response.last)\n",
        "\n",
        "    if prompt == \"exit\":\n",
        "        break\n",
        "\n",
        "print(\"Thank You\")\n"
      ]
    },
    {
      "cell_type": "code",
      "execution_count": null,
      "metadata": {
        "colab": {
          "base_uri": "https://localhost:8080/",
          "height": 36
        },
        "id": "Ln0g127MMEcO",
        "outputId": "ea445d4b-592e-4b35-eed0-d394450a749b"
      },
      "outputs": [
        {
          "data": {
            "application/vnd.google.colaboratory.intrinsic+json": {
              "type": "string"
            },
            "text/plain": [
              "'Hello! How can I help you today?'"
            ]
          },
          "execution_count": 18,
          "metadata": {},
          "output_type": "execute_result"
        }
      ],
      "source": [
        "# Create a new conversation\n",
        "response = palm.chat(messages='Hello')\n",
        "\n",
        "# Last contains the model's response:\n",
        "response.last"
      ]
    },
    {
      "cell_type": "code",
      "execution_count": null,
      "metadata": {
        "id": "7Ll28t_9-caG"
      },
      "outputs": [],
      "source": []
    }
  ],
  "metadata": {
    "colab": {
      "provenance": []
    },
    "kernelspec": {
      "display_name": "Python 3",
      "name": "python3"
    },
    "language_info": {
      "codemirror_mode": {
        "name": "ipython",
        "version": 3
      },
      "file_extension": ".py",
      "mimetype": "text/x-python",
      "name": "python",
      "nbconvert_exporter": "python",
      "pygments_lexer": "ipython3",
      "version": "3.11.4"
    }
  },
  "nbformat": 4,
  "nbformat_minor": 0
}
